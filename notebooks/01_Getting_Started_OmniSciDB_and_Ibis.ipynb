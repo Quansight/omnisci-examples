{
 "cells": [
  {
   "cell_type": "markdown",
   "metadata": {},
   "source": [
    "# Getting Started with OmnisciDB"
   ]
  },
  {
   "cell_type": "markdown",
   "metadata": {},
   "source": [
    "## Omnisci Database Setup\n",
    "\n",
    "These examples will be using a local [Omnisci database](https://www.omnisci.com/platform/omniscidb). The first thing we'll do is get that up and running. There are several [options for installation](https://docs.omnisci.com/installation-and-configuration/installation), but for this tutorial we'll use the Open Source CPU installation using Docker. "
   ]
  },
  {
   "cell_type": "code",
   "execution_count": null,
   "metadata": {},
   "outputs": [],
   "source": [
    "# Once you have docker running locally,\n",
    "# pull the docker image\n",
    "! docker pull omnisci/core-os-cpu\n",
    "# create a local storage directory\n",
    "! mkdir ${HOME}/omnisci-storage\n",
    "# run docker container\n",
    "! docker run -d --name omnisci -p 6274:6274 -v ${HOME}/omnisci-storage:/omnisci-storage omnisci/core-os-cpu"
   ]
  },
  {
   "cell_type": "markdown",
   "metadata": {},
   "source": [
    "> Note: If you recieve an error message saying this container is already in use, remove the old container using   \n",
    "`docker rm old_container_id`"
   ]
  },
  {
   "cell_type": "markdown",
   "metadata": {},
   "source": [
    "The docker container automatically launched an OmniSci database in which we can now connect."
   ]
  },
  {
   "cell_type": "markdown",
   "metadata": {},
   "source": [
    "## Connecting to the database using Ibis"
   ]
  },
  {
   "cell_type": "markdown",
   "metadata": {},
   "source": [
    "We will be using Ibis to create and manage our connection to the database. Ibis will allow us to construct complex data anlytics using a Pandas-like API. It will convert our analytics methods to a SQL query, but will push the computational burden of the query to the server. In this way, users can query extremely large databases on remote servers without heavy local computation."
   ]
  },
  {
   "cell_type": "markdown",
   "metadata": {},
   "source": [
    ">**Note**: Unless you're using the conda environment from this repo, you'll also need to install the omnisci backend for ibis  \n",
    "`pip install ibis-framework[omnisci]`  "
   ]
  },
  {
   "cell_type": "code",
   "execution_count": null,
   "metadata": {},
   "outputs": [],
   "source": [
    "import ibis\n",
    "# set up the credentials to the OmniSci db inside of docker\n",
    "creds = {\n",
    "    'user': 'admin',\n",
    "    'password': 'HyperInteractive',\n",
    "    'host': '127.0.0.1',\n",
    "    'port': 6274,\n",
    "    'dbname': 'omnisci'\n",
    "}\n",
    "# connect to the database using Ibis\n",
    "omnisci_client = ibis.omniscidb.connect(user=creds['user'], password=creds['password'],\n",
    "                                  host=creds['host'], port=creds['port'], database=creds['dbname'])"
   ]
  },
  {
   "cell_type": "markdown",
   "metadata": {},
   "source": [
    "### Exploring the database using Ibis"
   ]
  },
  {
   "cell_type": "markdown",
   "metadata": {},
   "source": [
    "Let's use the client to take a look at the database (For a more in-depth look at Ibis functionality, check out the Ibis tutorials at [...]() )  \n",
    "We can quickly get a list of the tables available in the database.  "
   ]
  },
  {
   "cell_type": "code",
   "execution_count": null,
   "metadata": {},
   "outputs": [],
   "source": [
    "omnisci_client.list_tables()"
   ]
  },
  {
   "cell_type": "markdown",
   "metadata": {},
   "source": [
    "Now we will make a connection to the 'upstream_reservoir' table."
   ]
  },
  {
   "cell_type": "code",
   "execution_count": null,
   "metadata": {},
   "outputs": [],
   "source": [
    "states = omnisci_client.table('omnisci_states')\n",
    "states"
   ]
  },
  {
   "cell_type": "markdown",
   "metadata": {},
   "source": [
    "You'll notice that when you inspect `states` you see a schema object, not actual results.   \n",
    "Ibis won't load the data and perform any computation, but instead will leave the data in the   \n",
    "backend defined in the connection, and we will _ask_ the backend to perform the computations.  \n",
    "\n",
    "This is a valuable tool when working with big data in which our client side cannot handle the  \n",
    "volume of data until we have reduced it.  \n",
    "\n",
    "If you'd perfer for the backend to run the computation immediately, you can set  \n",
    "`ibis.options.interactive = True`.\n",
    "  \n",
    "Let's take a quick look at information Ibis has for this table without actually pulling the data locally:"
   ]
  },
  {
   "cell_type": "code",
   "execution_count": null,
   "metadata": {},
   "outputs": [],
   "source": [
    "# get the table info\n",
    "display(states.info())\n",
    "\n",
    "# get the table metadata\n",
    "display(states.metadata())"
   ]
  },
  {
   "cell_type": "markdown",
   "metadata": {},
   "source": [
    "Ibis is converting our expression into a SQL expression. Let's take a look at the actual SQL query."
   ]
  },
  {
   "cell_type": "code",
   "execution_count": null,
   "metadata": {},
   "outputs": [],
   "source": [
    "states.compile()"
   ]
  },
  {
   "cell_type": "markdown",
   "metadata": {},
   "source": [
    "The table has 52 rows which is small enough for us to handle locally so we can go ahead and execute the query which will bring us back the requested table (we haven't asked it to perforrm any calculations yet)  "
   ]
  },
  {
   "cell_type": "code",
   "execution_count": null,
   "metadata": {},
   "outputs": [],
   "source": [
    "# execute the query\n",
    "states_df = states.execute()\n",
    "print(f'Return Type: {type(states_df)}')\n",
    "states_df"
   ]
  },
  {
   "cell_type": "markdown",
   "metadata": {},
   "source": [
    "Now we can immediately continue our data analytics using a Pandas DataFrame or we can modify our Ibis query to perform some calculations before pulling back data."
   ]
  }
 ],
 "metadata": {
  "kernelspec": {
   "display_name": "Python 3",
   "language": "python",
   "name": "python3"
  },
  "language_info": {
   "codemirror_mode": {
    "name": "ipython",
    "version": 3
   },
   "file_extension": ".py",
   "mimetype": "text/x-python",
   "name": "python",
   "nbconvert_exporter": "python",
   "pygments_lexer": "ipython3",
   "version": "3.7.6"
  }
 },
 "nbformat": 4,
 "nbformat_minor": 4
}
