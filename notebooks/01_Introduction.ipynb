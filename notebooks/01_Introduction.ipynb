{
 "cells": [
  {
   "cell_type": "markdown",
   "metadata": {},
   "source": [
    "# Introduction\n",
    "\n",
    "Topics included in this notebook:\n",
    "* [Overview of OmniSci](#overview)\n",
    "* [Tools available for Data Science](#available_tools)\n",
    "* [Installation](#installation)"
   ]
  },
  {
   "cell_type": "markdown",
   "metadata": {},
   "source": [
    "<a id='overview'></a>\n",
    "## Overview of OmniSci\n"
   ]
  },
  {
   "cell_type": "markdown",
   "metadata": {},
   "source": [
    "OmniSci is an analytics platform designed to handle very large datasets. It leverages the processing power of GPUs alongside traditional CPUs to achieve very high performance. OmniSci combines an open-source SQL engine (OmniSciDB), server-side rendering (OmniSci Render), and web-based data visualization (OmniSci Immerse) to provide a comprehensive platform for data analysis.\n",
    "\n",
    "**OmniSciDB**   \n",
    "The foundation of the platform is OmniSciDB, an open-source, GPU-accelerated database. OmniSciDB harnesses GPU processing power and returns SQL query results in milliseconds, even on tables with billions of rows. OmniSciDB delivers high performance with rapid query compilation, query vectorization, and advanced memory management.  \n",
    "\n",
    "**Native SQL**    \n",
    "With native SQL support, OmniSciDB returns query results hundreds of times faster than CPU-only analytical database platforms. Use your existing SQL knowledge to query data. You can use the standalone SQL engine with the command line, or the SQL editor that is part of the OmniSci Immerse visual analytics interface. Your SQL query results can output to OmniSci Immerse or to third-party software such as Birst, Power BI, Qlik, or Tableau.   \n",
    "\n",
    "**Geospatial Data**  \n",
    "OmniSciDB can store and query data using native Open Geospatial Consortium (OGC) types, including POINT, LINESTRING, POLYGON, and MULTIPOLYGON. With geo type support, you can query geo data at scale using special geospatial functions. Using the power of GPU processing, you can quickly and interactively calculate distances between two points and intersections between objects.  \n",
    "\n",
    "**Open Source**  \n",
    "OmniSciDB is open source and encourages contribution and innovation from a global community of users. It is available on Github under the Apache 2.0 license, along with components like a Python interface (pymapd) and JavaScript infrastructure (mapd-connector, mapd-charting), making OmniSci the leader in open-source analytics.  "
   ]
  },
  {
   "cell_type": "markdown",
   "metadata": {},
   "source": [
    "<a id='available_tools'></a>\n",
    "## Tools Available for Data Science"
   ]
  },
  {
   "cell_type": "markdown",
   "metadata": {},
   "source": [
    "If you are an OmniSci open source edition user, you will not have access to Immerse, but you can still explore OmniSci with the Data Science Foundation tools.   \n",
    "\n",
    "**Ibis**  \n",
    "Ibis is a productivity API for working in Python and analyzing data in remote SQL-based data stores such as OmniSciDB. Inspired by the pandas toolkit for data analysis, Ibis provides a Pythonic API that compiles to SQL. Combined with OmniSciDB scale and speed, Ibis offers a familiar but more powerful method for analyzing very large datasets \"in-place.\"   \n",
    "Ibis supports multiple SQL databases backends, and also supports pandas as a native backend. Combined with Altair, this integration allows you to explore multiple datasets across different data sources.\n",
    "\n",
    "**Altair**  \n",
    "Altair is another key component of the OmniSci data science foundation. Building on the same Vega data visualization engine used by Immerse for geospatial charts, Altair provides a pythonic API over Vega-Lite, a subset of the full Vega specification for declarative charting based on the \"Grammar of Graphics\" paradigm. The OmniSci data science foundation goes further and includes interface code to enable Altair to transparently use Ibis expressions instead of pandas data frames. This allows data visualization over much larger datasets in OmniSci without writing SQL code.\n",
    "\n",
    "\n",
    "\n"
   ]
  },
  {
   "cell_type": "markdown",
   "metadata": {},
   "source": [
    "<a id='installation'></a>\n",
    "## Installation"
   ]
  },
  {
   "cell_type": "markdown",
   "metadata": {},
   "source": [
    "**Create an environment for the notebooks in this repository**   \n",
    "If you haven't already, install [Miniconda](https://docs.conda.io/en/latest/miniconda.html) on your machine.  \n",
    "  \n",
    "Create the environment for the examples in this repository:  \n",
    "`conda env create -f environment.yml -n omnisci`   \n",
    "  \n",
    "Activate the environment:  \n",
    "`conda activate omnisci`\n",
    "\n",
    "\n",
    "**Start local Omnnisci Server**  \n",
    "***Option 1: Local OmniSci server using docker***  \n",
    "Using the OmniSci Docker Container for Jupyter tools\n",
    "You can download a [pre-built Docker container](https://docs.omnisci.com/installation-and-configuration/installation/install-docker) for these tools and simply start up these tools as a standalone container."
   ]
  },
  {
   "cell_type": "code",
   "execution_count": null,
   "metadata": {},
   "outputs": [],
   "source": [
    "# Once you have docker running locally,\n",
    "# pull the docker image for Open Source CPU installation\n",
    "! docker pull omnisci/core-os-cpu:v5.2.2\n",
    "# create a local storage directory\n",
    "! mkdir ${HOME}/omnisci-storage\n",
    "# copy the omnisci configuration file into the storage directory\n",
    "! cp ../omnisci.conf ${HOME}/omnisci-storage\n",
    "# run docker container\n",
    "! docker run -d --name omnisci -p 6274:6274 -v ${HOME}/omnisci-storage:/omnisci-storage omnisci/core-os-cpu:v5.2.2"
   ]
  },
  {
   "cell_type": "markdown",
   "metadata": {},
   "source": [
    "> Note: If you recieve an error message saying this container is already in use, you can remove the old container to start fresh by using   \n",
    "`docker rm old_container_id`"
   ]
  },
  {
   "cell_type": "markdown",
   "metadata": {},
   "source": [
    "***Option 2: Local OmniSci server using installer***  \n",
    "OmnisSci Open Source is available for local install. You can download the executables for your machine on the [OmniSci Website](https://www.omnisci.com/platform/downloads).    \n",
    "  \n",
    "Also note that a preview for Mac installs is also [available](https://www.omnisci.com/mac-preview).  \n",
    "  \n",
    "***Option 3: Remote Omnisci servers***  \n",
    "In addition to data you build on a local server, you can always reach out to the sample OmniSci servers to interact with more sample data.  "
   ]
  }
 ],
 "metadata": {
  "kernelspec": {
   "display_name": "Python 3",
   "language": "python",
   "name": "python3"
  },
  "language_info": {
   "codemirror_mode": {
    "name": "ipython",
    "version": 3
   },
   "file_extension": ".py",
   "mimetype": "text/x-python",
   "name": "python",
   "nbconvert_exporter": "python",
   "pygments_lexer": "ipython3",
   "version": "3.7.8"
  }
 },
 "nbformat": 4,
 "nbformat_minor": 4
}
