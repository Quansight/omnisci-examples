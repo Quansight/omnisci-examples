{
 "cells": [
  {
   "cell_type": "markdown",
   "metadata": {},
   "source": [
    "# Omnisci Runtime UDF support\n",
    "\n",
    "The [*Remote Backend Compiler* (RBC)](https://github.com/xnd-project/rbc) package implements the [Omnisci](https://www.omnisci.com/) client support for defining so-called Runtime UDFs. That is, while Omnisci server is running, one can register new SQL functions to Omnisci Calcite server as well as provide their implementations in LLVM IR string form. The RBC package supports creating Runtime UDFs from Python functions.\n",
    "\n",
    "One can use the Runtime UDF functions in SQL queries from several Omnisci clients including [`pymapd`](https://github.com/omnisci/pymapd), [`ibis.omniscidb`](http://ibis-project.org/docs/backends/omnisci.html), or [`rbc.omniscidb`](https://github.com/xnd-project/rbc). \n",
    "\n",
    "First, we will connect RBC to our local Omnisci server:"
   ]
  },
  {
   "cell_type": "code",
   "execution_count": null,
   "metadata": {
    "pycharm": {
     "is_executing": false
    }
   },
   "outputs": [],
   "source": [
    "from rbc.omniscidb import RemoteOmnisci\n",
    "omni = RemoteOmnisci(user='admin', password='HyperInteractive',\n",
    "                     host='127.0.0.1', port=6274, dbname='omnisci')"
   ]
  },
  {
   "cell_type": "markdown",
   "metadata": {},
   "source": [
    "\n",
    "\n",
    "In this demo, we'll use the [`ibis.omniscidb`](http://ibis-project.org/docs/backends/omnisci.html) to connect to the OmnisciDB server as well:"
   ]
  },
  {
   "cell_type": "code",
   "execution_count": null,
   "metadata": {},
   "outputs": [],
   "source": [
    "import ibis\n",
    "ibis_con = ibis.omniscidb.connect(user=omni.user, password=omni.password,\n",
    "                                  host=omni.host, port=omni.port, database=omni.dbname)"
   ]
  },
  {
   "cell_type": "markdown",
   "metadata": {},
   "source": [
    "### Create and fill test table"
   ]
  },
  {
   "cell_type": "code",
   "execution_count": null,
   "metadata": {},
   "outputs": [],
   "source": [
    "omni.sql_execute('drop table if exists mytable')\n",
    "omni.sql_execute('create table if not exists mytable (x DOUBLE, i INT);');\n",
    "for _i in range(5):\n",
    "    omni.sql_execute('insert into mytable values '+str((_i,)*2));\n",
    "ibis_con.sql('select x, i from mytable').execute()"
   ]
  },
  {
   "cell_type": "markdown",
   "metadata": {},
   "source": [
    "## Defining Runtime UDFs from Python\n",
    "\n",
    "To define a Runtime UDF from a Python function, the function must be decorated with `omni` decorator:"
   ]
  },
  {
   "cell_type": "code",
   "execution_count": null,
   "metadata": {},
   "outputs": [],
   "source": [
    "@omni('f32(f32)', 'f64(f64)')\n",
    "def incr(v):\n",
    "    \"\"\"Increment float value by one\"\"\"\n",
    "    return v + 1"
   ]
  },
  {
   "cell_type": "markdown",
   "metadata": {},
   "source": [
    "One can overload existing UDFs (now using Python annotations):"
   ]
  },
  {
   "cell_type": "code",
   "execution_count": null,
   "metadata": {},
   "outputs": [],
   "source": [
    "@omni\n",
    "def incr(v: 'int32') -> 'int32':\n",
    "    \"\"\"Increment integer value by ten\"\"\"\n",
    "    return v + 10"
   ]
  },
  {
   "cell_type": "markdown",
   "metadata": {},
   "source": [
    "Finally, we register the defined UDFs to OmnisciDB server:"
   ]
  },
  {
   "cell_type": "code",
   "execution_count": null,
   "metadata": {},
   "outputs": [],
   "source": [
    "omni.register()"
   ]
  },
  {
   "cell_type": "markdown",
   "metadata": {},
   "source": [
    "## Using UDFs in a SQL query"
   ]
  },
  {
   "cell_type": "code",
   "execution_count": null,
   "metadata": {},
   "outputs": [],
   "source": [
    "t = ibis_con.sql('select x, incr(x), i, incr(i) from mytable')\n",
    "t[t.i < 3].execute()"
   ]
  },
  {
   "cell_type": "markdown",
   "metadata": {},
   "source": [
    "# Advanced: defining UDFs from a LLVM IR string"
   ]
  },
  {
   "cell_type": "markdown",
   "metadata": {},
   "source": [
    "One can implement UDF registration support to any OmnisciDB client that \n",
    "is able to provide the UDF implementations in LLVM IR form.\n",
    "\n",
    "To demonstrate that, let's define such a UDF from a LLVM IR string:"
   ]
  },
  {
   "cell_type": "code",
   "execution_count": null,
   "metadata": {},
   "outputs": [],
   "source": [
    "foo_ir = '''\n",
    "; foo(i, j) -> i * j + 55\n",
    "define i32 @foo(i32 %.1, i32 %.2) {\n",
    "entry:\n",
    "  %.18.i = mul i32 %.2, %.1\n",
    "  %.33.i = add i32 %.18.i, 55\n",
    "  ret i32 %.33.i\n",
    "}\n",
    "'''\n",
    "foo_signature = \"foo 'int32(int32, int32)'\""
   ]
  },
  {
   "cell_type": "markdown",
   "metadata": {},
   "source": [
    "and register it to OmnisciDB server using its Thrift end-point:"
   ]
  },
  {
   "cell_type": "code",
   "execution_count": null,
   "metadata": {},
   "outputs": [],
   "source": [
    "omni.thrift_call('register_runtime_udf',\n",
    "                 omni.session_id,\n",
    "                 foo_signature,\n",
    "                 dict(cpu = foo_ir))"
   ]
  },
  {
   "cell_type": "markdown",
   "metadata": {},
   "source": [
    "Test it:"
   ]
  },
  {
   "cell_type": "code",
   "execution_count": null,
   "metadata": {},
   "outputs": [],
   "source": [
    "ibis_con.sql('select i, foo(i, 5) from mytable').execute()"
   ]
  }
 ],
 "metadata": {
  "kernelspec": {
   "display_name": "Python 3",
   "language": "python",
   "name": "python3"
  },
  "language_info": {
   "codemirror_mode": {
    "name": "ipython",
    "version": 3
   },
   "file_extension": ".py",
   "mimetype": "text/x-python",
   "name": "python",
   "nbconvert_exporter": "python",
   "pygments_lexer": "ipython3",
   "version": "3.7.8"
  }
 },
 "nbformat": 4,
 "nbformat_minor": 4
}
