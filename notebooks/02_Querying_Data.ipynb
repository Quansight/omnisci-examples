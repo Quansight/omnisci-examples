{
 "cells": [
  {
   "cell_type": "markdown",
   "metadata": {},
   "source": [
    "# Querying Data\n",
    "\n",
    "Topics included in this notebook:  \n",
    "    \n",
    "* [Simple queries using pymapd](#pymapd)\n",
    "* [Introducing Ibis](#ibis)\n",
    "* [Advanced Ibis Queries](#advanced)"
   ]
  },
  {
   "cell_type": "markdown",
   "metadata": {},
   "source": [
    "<a id='pymapd'></a>\n",
    "## Simple queries using `pymapd`"
   ]
  },
  {
   "cell_type": "markdown",
   "metadata": {},
   "source": [
    "Create a connection. For this example we'll use an external database."
   ]
  },
  {
   "cell_type": "code",
   "execution_count": null,
   "metadata": {},
   "outputs": [],
   "source": [
    "from pymapd import connect\n",
    "con = connect(user=\"mapd\", password=\"HyperInteractive\", host=\"metis.mapd.com\", dbname=\"mapd\", port=443, protocol='https')\n",
    "con "
   ]
  },
  {
   "cell_type": "markdown",
   "metadata": {},
   "source": [
    "View available tables in this database"
   ]
  },
  {
   "cell_type": "code",
   "execution_count": null,
   "metadata": {},
   "outputs": [],
   "source": [
    "con.get_tables()"
   ]
  },
  {
   "cell_type": "markdown",
   "metadata": {},
   "source": [
    "Create a cursor"
   ]
  },
  {
   "cell_type": "code",
   "execution_count": null,
   "metadata": {},
   "outputs": [],
   "source": [
    "c = con.cursor()\n",
    "c"
   ]
  },
  {
   "cell_type": "markdown",
   "metadata": {},
   "source": [
    "Query database table of flight departure and arrival delay times"
   ]
  },
  {
   "cell_type": "code",
   "execution_count": null,
   "metadata": {},
   "outputs": [],
   "source": [
    "c.execute(\"SELECT depdelay, arrdelay FROM flights_donotmodify LIMIT 100\")"
   ]
  },
  {
   "cell_type": "markdown",
   "metadata": {},
   "source": [
    "Display number of rows returned"
   ]
  },
  {
   "cell_type": "code",
   "execution_count": null,
   "metadata": {},
   "outputs": [],
   "source": [
    "c.rowcount"
   ]
  },
  {
   "cell_type": "markdown",
   "metadata": {},
   "source": [
    "Display the Description objects list"
   ]
  },
  {
   "cell_type": "code",
   "execution_count": null,
   "metadata": {},
   "outputs": [],
   "source": [
    "c.description"
   ]
  },
  {
   "cell_type": "markdown",
   "metadata": {},
   "source": [
    "Iterate over the cursor, returning a list of tuples of values"
   ]
  },
  {
   "cell_type": "code",
   "execution_count": null,
   "metadata": {},
   "outputs": [],
   "source": [
    "result = list(c)\n",
    "result[:5]"
   ]
  },
  {
   "cell_type": "markdown",
   "metadata": {},
   "source": [
    "Close the connection to the database"
   ]
  },
  {
   "cell_type": "code",
   "execution_count": null,
   "metadata": {},
   "outputs": [],
   "source": [
    "con.close()"
   ]
  },
  {
   "cell_type": "markdown",
   "metadata": {},
   "source": [
    "<a id='ibis'></a>\n",
    "## Introducing Ibis"
   ]
  },
  {
   "cell_type": "markdown",
   "metadata": {},
   "source": [
    "In this example, we will be using Ibis to create and manage our connection to the database. Ibis will allow us to construct complex data anlytics using a Pandas-like API. It will convert our analytics methods to a SQL query, but will push the computational burden of the query to the server. In this way, users can query extremely large databases on remote servers without heavy local computation.  \n",
    "  \n",
    "For this example we'll use a local database running inside of docker."
   ]
  },
  {
   "cell_type": "markdown",
   "metadata": {},
   "source": [
    "Connect to the database using ibis:"
   ]
  },
  {
   "cell_type": "code",
   "execution_count": null,
   "metadata": {},
   "outputs": [],
   "source": [
    "import warnings\n",
    "\n",
    "from ibis.backends import omniscidb as ibis_omniscidb\n",
    "    \n",
    "# set up the credentials to the OmniSci db inside of docker\n",
    "creds = {\n",
    "    'user': 'admin',\n",
    "    'password': 'HyperInteractive',\n",
    "    'host': '127.0.0.1',\n",
    "    'port': 16274,\n",
    "    'dbname': 'omnisci'\n",
    "}\n",
    "omnisci_client = ibis_omniscidb.connect(\n",
    "    user=creds['user'],\n",
    "    password=creds['password'],\n",
    "    host=creds['host'],\n",
    "    port=creds['port'],\n",
    "    database=creds['dbname']\n",
    ")"
   ]
  },
  {
   "cell_type": "markdown",
   "metadata": {},
   "source": [
    "### Exploring the database using Ibis"
   ]
  },
  {
   "cell_type": "markdown",
   "metadata": {},
   "source": [
    "Let's use the client to take a look at the database (For a more in-depth look at Ibis functionality, check out the Ibis tutorials at [...]() )  \n",
    "We can quickly get a list of the tables available in the database.  "
   ]
  },
  {
   "cell_type": "code",
   "execution_count": null,
   "metadata": {},
   "outputs": [],
   "source": [
    "omnisci_client.list_tables()"
   ]
  },
  {
   "cell_type": "markdown",
   "metadata": {},
   "source": [
    "Now we will make a connection to the 'omnisci_states' table."
   ]
  },
  {
   "cell_type": "code",
   "execution_count": null,
   "metadata": {},
   "outputs": [],
   "source": [
    "states = omnisci_client.table('omnisci_states')\n",
    "states"
   ]
  },
  {
   "cell_type": "markdown",
   "metadata": {},
   "source": [
    "You'll notice that when you inspect `states` you see a schema object, not actual results.   \n",
    "Ibis won't load the data and perform any computation, but instead will leave the data in the   \n",
    "backend defined in the connection, and we will _ask_ the backend to perform the computations.  \n",
    "\n",
    "This is a valuable tool when working with big data in which our client side cannot handle the  \n",
    "volume of data until we have reduced it.  \n",
    "\n",
    "If you'd perfer for the backend to run the computation immediately, you can set  \n",
    "`ibis.options.interactive = True`.\n",
    "  \n",
    "Let's take a quick look at information Ibis has for this table without actually pulling the data locally:"
   ]
  },
  {
   "cell_type": "code",
   "execution_count": null,
   "metadata": {},
   "outputs": [],
   "source": [
    "# get the table info\n",
    "display(states.info())\n",
    "\n",
    "# get the table metadata\n",
    "display(states.metadata())"
   ]
  },
  {
   "cell_type": "markdown",
   "metadata": {},
   "source": [
    "Ibis is converting our expression into a SQL expression. Let's take a look at the actual SQL query."
   ]
  },
  {
   "cell_type": "code",
   "execution_count": null,
   "metadata": {},
   "outputs": [],
   "source": [
    "states.compile()"
   ]
  },
  {
   "cell_type": "markdown",
   "metadata": {},
   "source": [
    "The table has 52 rows which is small enough for us to handle locally so we can go ahead and execute the query which will bring us back the requested table (we haven't asked it to perform any calculations yet)  "
   ]
  },
  {
   "cell_type": "code",
   "execution_count": null,
   "metadata": {},
   "outputs": [],
   "source": [
    "# execute the query\n",
    "states_df = states.execute()\n",
    "print(f'Return Type: {type(states_df)}')\n",
    "states_df"
   ]
  },
  {
   "cell_type": "markdown",
   "metadata": {},
   "source": [
    "Now we can immediately continue our data analytics using a Pandas DataFrame (or GeoPandas GeoDataFrame) or we can modify our Ibis query to perform some calculations before pulling back data.  "
   ]
  },
  {
   "cell_type": "markdown",
   "metadata": {},
   "source": [
    "<a id='advanced'></a>\n",
    "## Advanced Ibis Queries\n",
    "\n",
    "We can use Ibis to construct complex SQL queries and push the computation required for these queries to the server. This puts the computational burden on the server rather than the local machine, and allows for users to transform and reduce the dataset before\n",
    "bringing the results back locally.  \n",
    "  \n",
    "For this example we'll use the countries table in our local database."
   ]
  },
  {
   "cell_type": "code",
   "execution_count": null,
   "metadata": {},
   "outputs": [],
   "source": [
    "countries = omnisci_client.table('omnisci_countries')"
   ]
  },
  {
   "cell_type": "markdown",
   "metadata": {},
   "source": [
    "Now let's see how many countries are in the Melanesia subregion. First we apply a filter, then we apply a count method.  "
   ]
  },
  {
   "cell_type": "code",
   "execution_count": null,
   "metadata": {},
   "outputs": [],
   "source": [
    "melanesia = countries.filter(countries['subregion'] == 'Melanesia')\n",
    "melanesia_count = melanesia.count()\n",
    "type(melanesia_count)"
   ]
  },
  {
   "cell_type": "markdown",
   "metadata": {},
   "source": [
    "At this point, you can see that we've built up an Ibis expression for this analysis, but we need to tell the server to perform the computation. We do that with the execute statement."
   ]
  },
  {
   "cell_type": "code",
   "execution_count": null,
   "metadata": {},
   "outputs": [],
   "source": [
    "melanesia_count.execute()"
   ]
  },
  {
   "cell_type": "markdown",
   "metadata": {},
   "source": [
    "Let's build another complex query using this table. Let's see what the top 5 countries are in terms geographic area.   \n",
    "  \n",
    "First, we'll add an additional area column to the dataset. This is calculated from the shapely objects in the `omnisci_geo` column."
   ]
  },
  {
   "cell_type": "code",
   "execution_count": null,
   "metadata": {},
   "outputs": [],
   "source": [
    "countries = countries.mutate(area=countries.omnisci_geo.area())"
   ]
  },
  {
   "cell_type": "markdown",
   "metadata": {},
   "source": [
    "We can stop here and perform the computation (e.g. `countries.execute()`), but for this example, we'll continue to build the expression.   \n",
    "  \n"
   ]
  },
  {
   "cell_type": "code",
   "execution_count": null,
   "metadata": {},
   "outputs": [],
   "source": [
    "top_five_table = countries.sort_by(('area', False)).head(5)\n",
    "top_five_countries = top_five_table['admin']\n",
    "top_five_countries.execute()"
   ]
  },
  {
   "cell_type": "markdown",
   "metadata": {},
   "source": [
    "Before moving on, we'll close our connection to the database."
   ]
  },
  {
   "cell_type": "code",
   "execution_count": null,
   "metadata": {},
   "outputs": [],
   "source": [
    "omnisci_client.close()"
   ]
  }
 ],
 "metadata": {
  "kernelspec": {
   "display_name": "Python 3",
   "language": "python",
   "name": "python3"
  },
  "language_info": {
   "codemirror_mode": {
    "name": "ipython",
    "version": 3
   },
   "file_extension": ".py",
   "mimetype": "text/x-python",
   "name": "python",
   "nbconvert_exporter": "python",
   "pygments_lexer": "ipython3",
   "version": "3.7.8"
  }
 },
 "nbformat": 4,
 "nbformat_minor": 4
}
