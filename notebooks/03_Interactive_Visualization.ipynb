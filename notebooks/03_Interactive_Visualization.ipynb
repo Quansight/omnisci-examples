{
 "cells": [
  {
   "cell_type": "markdown",
   "metadata": {},
   "source": [
    "# Interactive Visualization\n",
    "\n",
    "Topics included in this notebook:\n",
    "\n",
    "* [Using Ibis and Vega to build interactive Dashboards](#ibis_vega)\n",
    "* [Using Ibis and Holoviz to build interactive Dashboard](#ibis_holoviz)\n",
    "* [Advanced Vega Demo 1 - Blah](#adv_vega_1)\n",
    "* [Advanced Vega Demo 2 - Blah](#adv_vega_2)\n",
    "* [Advanced Holoviz Demo 1 - Blah](#adv_holoviz_1)\n",
    "* [Advanced Holoviz Demo 2 - Blah](#adv_holoviz_2)"
   ]
  },
  {
   "cell_type": "markdown",
   "metadata": {},
   "source": [
    "<a id='ibis_vega'></a>\n",
    "## Using Ibis and Vega to build interactive Dashboards"
   ]
  },
  {
   "cell_type": "code",
   "execution_count": null,
   "metadata": {},
   "outputs": [],
   "source": []
  },
  {
   "cell_type": "markdown",
   "metadata": {},
   "source": [
    "<a id='ibis_holoviz'></a>\n",
    "## Using Ibis and Holoviz to build interactive Dashboard"
   ]
  },
  {
   "cell_type": "code",
   "execution_count": null,
   "metadata": {},
   "outputs": [],
   "source": []
  },
  {
   "cell_type": "markdown",
   "metadata": {},
   "source": [
    "<a id='adv_vega_1'></a>\n",
    "## Advanced Vega Demo 1 - Blah"
   ]
  },
  {
   "cell_type": "code",
   "execution_count": null,
   "metadata": {},
   "outputs": [],
   "source": []
  },
  {
   "cell_type": "markdown",
   "metadata": {},
   "source": [
    "<a id='adv_vega_2'></a> \n",
    "## Advanced Vega Demo 2 - Blah"
   ]
  },
  {
   "cell_type": "code",
   "execution_count": null,
   "metadata": {},
   "outputs": [],
   "source": []
  },
  {
   "cell_type": "markdown",
   "metadata": {},
   "source": [
    "<a id='adv_holoviz_1'></a>\n",
    "## Advanced Holoviz Demo 1 - Blah"
   ]
  },
  {
   "cell_type": "code",
   "execution_count": null,
   "metadata": {},
   "outputs": [],
   "source": []
  },
  {
   "cell_type": "markdown",
   "metadata": {},
   "source": [
    "<a id='adv_holoviz_2'></a>\n",
    "## Advanced Holoviz Demo 2 - Blah"
   ]
  },
  {
   "cell_type": "code",
   "execution_count": null,
   "metadata": {},
   "outputs": [],
   "source": []
  },
  {
   "cell_type": "code",
   "execution_count": null,
   "metadata": {},
   "outputs": [],
   "source": []
  },
  {
   "cell_type": "code",
   "execution_count": null,
   "metadata": {},
   "outputs": [],
   "source": []
  }
 ],
 "metadata": {
  "kernelspec": {
   "display_name": "Python 3",
   "language": "python",
   "name": "python3"
  },
  "language_info": {
   "codemirror_mode": {
    "name": "ipython",
    "version": 3
   },
   "file_extension": ".py",
   "mimetype": "text/x-python",
   "name": "python",
   "nbconvert_exporter": "python",
   "pygments_lexer": "ipython3",
   "version": "3.7.8"
  }
 },
 "nbformat": 4,
 "nbformat_minor": 4
}
