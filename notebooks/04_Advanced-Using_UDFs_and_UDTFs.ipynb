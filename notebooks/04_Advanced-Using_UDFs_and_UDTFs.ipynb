{
 "cells": [
  {
   "cell_type": "markdown",
   "metadata": {},
   "source": [
    "# Advanced - Using UDFs and UDTFs\n",
    "\n",
    "Topics included in this notebook:\n",
    "\n",
    "* [What are UDFs and UDTFs?](#what)\n",
    "* [UDF Example](#udf)\n",
    "* [UDTF Example](#udtf)"
   ]
  },
  {
   "cell_type": "markdown",
   "metadata": {},
   "source": [
    "<a id='what'></a>\n",
    "## What are UDFs and UDTFs?"
   ]
  },
  {
   "cell_type": "markdown",
   "metadata": {},
   "source": [
    "For very large data sets retrieving the data set to a local system for analysis may be impractical because of network bandwidth or the local system may not have enough RAM to hold the data. In such situations it becomes necessary to implement analyzing tools locally but in such a way that the tools are executed on the server system that holds the data.\n",
    "\n",
    "While packages like Ibis allow us to push standard calculations and data manipulation onto the server, there are occassions in which we would like to define our own function. These are applied through what we call User-Defined Functions (UDFs) and User-Defined Table Functions (UDTFs). UDFs can be applied to table data row-by-row, hence UDFs are data item-wise functions and UDFs return a scalar value. UDTFs, on the other hand, can be applied to table data columns and UDTFs return a table. Hence UDTFs are also called \"table functions\". OmnisciDB server v 5.4 implements support for users to define UDFs and UDTFs in runtime. \n",
    "\n",
    "The UDFs and table functions can be defined as Python functions using the [RBC](https://github.com/xnd-project/rbc/) tool that exploits [Numba](https://numba.pydata.org/) to convert Python functions to [LLVM](https://en.wikipedia.org/wiki/LLVM) IR strings and that are registered in the OmnisciDB server as User-Defined SQL functions so that the LLVM IR will be compiled into the SQL queries of the OmnisciDB server.\n",
    "\n"
   ]
  },
  {
   "cell_type": "markdown",
   "metadata": {},
   "source": [
    "<a id='udf'></a>\n",
    "## UDF Example\n",
    "\n",
    "The [*Remote Backend Compiler* (RBC)](https://github.com/xnd-project/rbc) package implements the [Omnisci](https://www.omnisci.com/) client support for defining so-called Runtime UDFs. That is, while Omnisci server is running, one can register new SQL functions to Omnisci Calcite server as well as provide their implementations in LLVM IR string form. The RBC package supports creating Runtime UDFs from Python functions.\n",
    "\n",
    "One can use the Runtime UDF functions in SQL queries from several Omnisci clients including [`pymapd`](https://github.com/omnisci/pymapd), [`ibis.omniscidb`](http://ibis-project.org/docs/backends/omnisci.html), or [`rbc.omniscidb`](https://github.com/xnd-project/rbc). \n",
    "\n",
    "First, we will connect RBC to our local Omnisci server:"
   ]
  },
  {
   "cell_type": "code",
   "execution_count": null,
   "metadata": {
    "pycharm": {
     "is_executing": false
    }
   },
   "outputs": [],
   "source": [
    "from rbc.omniscidb import RemoteOmnisci\n",
    "omni = RemoteOmnisci(user='admin', password='HyperInteractive',\n",
    "                     host='127.0.0.1', port=6274, dbname='omnisci')"
   ]
  },
  {
   "cell_type": "markdown",
   "metadata": {},
   "source": [
    "In this example, we'll use the [`ibis.omniscidb`](http://ibis-project.org/docs/backends/omnisci.html) to connect to the OmnisciDB server as well:"
   ]
  },
  {
   "cell_type": "code",
   "execution_count": null,
   "metadata": {},
   "outputs": [],
   "source": [
    "from ibis.backends import omniscidb as ibis_omniscidb\n",
    "    \n",
    "ibis_con = ibis_omniscidb.connect(\n",
    "    user=omni.user,\n",
    "    password=omni.password,\n",
    "    host=omni.host,\n",
    "    port=omni.port,\n",
    "    database=omni.dbname\n",
    ")"
   ]
  },
  {
   "cell_type": "markdown",
   "metadata": {},
   "source": [
    "### Create and fill test table"
   ]
  },
  {
   "cell_type": "code",
   "execution_count": null,
   "metadata": {},
   "outputs": [],
   "source": [
    "omni.sql_execute('drop table if exists mytable')\n",
    "omni.sql_execute('create table if not exists mytable (x DOUBLE, i INT);');\n",
    "for _i in range(5):\n",
    "    omni.sql_execute('insert into mytable values '+str((_i,)*2));\n",
    "ibis_con.sql('select x, i from mytable').execute()"
   ]
  },
  {
   "cell_type": "markdown",
   "metadata": {},
   "source": [
    "### Defining Runtime UDFs from Python\n",
    "\n",
    "To define a Runtime UDF from a Python function, the function must be decorated with `omni` decorator:"
   ]
  },
  {
   "cell_type": "code",
   "execution_count": null,
   "metadata": {},
   "outputs": [],
   "source": [
    "@omni('f32(f32)', 'f64(f64)')\n",
    "def incr(v):\n",
    "    \"\"\"Increment float value by one\"\"\"\n",
    "    return v + 1"
   ]
  },
  {
   "cell_type": "markdown",
   "metadata": {},
   "source": [
    "One can overload existing UDFs (now using Python annotations):"
   ]
  },
  {
   "cell_type": "code",
   "execution_count": null,
   "metadata": {},
   "outputs": [],
   "source": [
    "@omni\n",
    "def incr(v: 'int32') -> 'int32':\n",
    "    \"\"\"Increment integer value by ten\"\"\"\n",
    "    return v + 10"
   ]
  },
  {
   "cell_type": "markdown",
   "metadata": {},
   "source": [
    "Finally, we register the defined UDFs to OmnisciDB server:"
   ]
  },
  {
   "cell_type": "code",
   "execution_count": null,
   "metadata": {},
   "outputs": [],
   "source": [
    "omni.register()"
   ]
  },
  {
   "cell_type": "markdown",
   "metadata": {},
   "source": [
    "### Using UDFs in a SQL query"
   ]
  },
  {
   "cell_type": "code",
   "execution_count": null,
   "metadata": {},
   "outputs": [],
   "source": [
    "t = ibis_con.sql('select x, incr(x), i, incr(i) from mytable')\n",
    "t[t.i < 3].execute()"
   ]
  },
  {
   "cell_type": "markdown",
   "metadata": {},
   "source": [
    "<a id='udtf'></a>\n",
    "## UDTF Example - Table column normalization\n",
    "\n",
    "This example demonstrates how to implement with a help of [RBC](https://github.com/xnd-project/rbc/) tool a OmnisciDB User-Defined Table Function (UDTF) in Python that normalizes a table column using the following formula:\n",
    "\n",
    "```\n",
    "  normalize(X) = (X - mean(X)) / std(X)\n",
    "```\n",
    "\n",
    "\n",
    "First, let us establish a connection to the OmnisciDB server using the tools from the RBC project:"
   ]
  },
  {
   "cell_type": "code",
   "execution_count": null,
   "metadata": {},
   "outputs": [],
   "source": [
    "import warnings; warnings.filterwarnings('ignore')\n",
    "from rbc.omniscidb import RemoteOmnisci\n",
    "omnisci = RemoteOmnisci(host='127.0.0.1', port=6274)\n",
    "print(f'Connecting to OmnisciDB version {omnisci.version}, cuda={omnisci.has_cuda}')\n",
    "assert omnisci.version[:3] >= (5, 4, 0), omnisci.version\n",
    "assert not omnisci.has_cuda"
   ]
  },
  {
   "cell_type": "markdown",
   "metadata": {},
   "source": [
    "This notebook requires CUDA-disabled OmnisciDB version 5.4 or newer. If the above fails or one is connected to older version of OmnisciDB, please resolve the issue before continuing."
   ]
  },
  {
   "cell_type": "markdown",
   "metadata": {},
   "source": [
    "### Test data\n",
    "\n",
    "Next, let's create a test data that will be a sequence of 500 random numbers drawn from normal distribution with average value 10 and standard deviation 2:"
   ]
  },
  {
   "cell_type": "code",
   "execution_count": null,
   "metadata": {},
   "outputs": [],
   "source": [
    "from matplotlib import pyplot as plt\n",
    "import numpy as np\n",
    "from numpy.random import randn\n",
    "SQL=lambda query: np.array(list(omnisci.sql_execute(query)[1]))\n",
    "SQL('DROP TABLE IF EXISTS test_data');\n",
    "SQL('CREATE TABLE IF NOT EXISTS test_data (X DOUBLE)')\n",
    "omnisci.load_table_columnar('test_data', X=np.random.randn(500) * 2 + 10)"
   ]
  },
  {
   "cell_type": "markdown",
   "metadata": {},
   "source": [
    "Let's verify that the created table `test_data` contains the expected data by retriving the data and using numpy methods for analyzing it locally:"
   ]
  },
  {
   "cell_type": "code",
   "execution_count": null,
   "metadata": {},
   "outputs": [],
   "source": [
    "X = SQL('SELECT X FROM test_data')     # X will be a ndarray with shape (500, 1)\n",
    "X = X[:, 0]                            # normalize X to 1-D array\n",
    "print(np.mean(X), np.std(X, ddof=1))   # print the mean and unbiased std of X\n",
    "plt.plot(X);"
   ]
  },
  {
   "cell_type": "code",
   "execution_count": null,
   "metadata": {},
   "outputs": [],
   "source": [
    "def std_welford(x):\n",
    "    A = 0.0  # running mean value\n",
    "    Q = 0.0  # running var value\n",
    "    for i in range(len(x)):\n",
    "        xi = x[i]\n",
    "        A1 = A + (xi - A) / (i + 1)\n",
    "        Q = Q + (xi - A) * (xi - A1)\n",
    "        A = A1\n",
    "    return pow(Q / (len(x) - 1), 0.5)\n",
    "\n",
    "# Compare the results of std_welford and numpy.std function:\n",
    "print(f'std_welford(X), numpy.std(X, ddof=1) -> {std_welford(X), np.std(X, ddof=1)}')"
   ]
  },
  {
   "cell_type": "markdown",
   "metadata": {},
   "source": [
    "The `std_welford` takes a sequence `x` as input and returns a `std` as scalar value. To run this function on the data stored in OmnisciDB server, we create an OmnisciDB table function as follows:"
   ]
  },
  {
   "cell_type": "code",
   "execution_count": null,
   "metadata": {},
   "outputs": [],
   "source": [
    "import numba\n",
    "numba_std_welford = numba.njit(std_welford)  # register for numba\n",
    "\n",
    "# register a UDTF as a new SQL function std in OmnisciDB server \n",
    "@omnisci('int32(Column<double>, int32|sizer=RowMultiplier, OutputColumn<double>)')\n",
    "def unbiased_std(x, m, out):\n",
    "    out[0] = numba_std_welford(x) # store the computed std value in UDTFs output argument\n",
    "    return 1                      # return the size of output column"
   ]
  },
  {
   "cell_type": "markdown",
   "metadata": {},
   "source": [
    "Notice that table functions are annotated differently from UDFs. The following applies to all table functions:\n",
    "\n",
    "- A `omnisci`-decorated function is considered a UDTF when it's signature contains `Column` and `OutputColumn` arguments. Otherwise, the function defines a UDF.\n",
    "\n",
    "- A table function input column arguments must have type `Column<row-type>` where `row-type` is a type specification for column entries. The currently supported row types are `float`, `double`, `int8`, `int16`, `int32`, `int64`, and `bool`. All column input arguments have equal sizes. The input column arguments must be specified in SQL queries via `CURSOR` construction.\n",
    "\n",
    "- A table function must have `sizer` argument that has type `int64` and is bar-annotated with `sizer=<sizer-type>` where currently supported `sizer-type` is `RowMultiplier`. The value of `sizer` defines the pre-allocated memory size of output arguments, see below. The sizer argument must be specified in SQL queries using a literal integer value.\n",
    "\n",
    "- A table function output column arguments must have type `OutputColumn<row-type>`. The output column arguments use pre-allocated memory that size is equal to `<sizer value> * <size of input columns>`.\n",
    "\n",
    "- A table function must return the actual size of output column arguments as `int32` value that will be used for reallocating the memory of output column arguments. Table functions are called in SQL queries using `TABLE` construction.\n",
    "\n",
    "For example, the table function `unbiased_std` takes three arguments: `x` is input column argument, `m` is sizer argument, and `out` is output column argument. For the sizes of column arguments, `len(out) == m * len(x)` holds. The table function returns `1` that indicates to OmnisciDB query engine that the size of output column `out` is equal to `1` and the engine will reallocate the `out` memory accordingly.\n",
    "\n",
    "Now let's compute the standard deviation in the server:"
   ]
  },
  {
   "cell_type": "code",
   "execution_count": null,
   "metadata": {},
   "outputs": [],
   "source": [
    "SQL('SELECT * FROM TABLE(unbiased_std(CURSOR(SELECT X FROM test_data), 1));')"
   ]
  },
  {
   "cell_type": "markdown",
   "metadata": {},
   "source": [
    "Notice that the retrived value matches with the result of locally computed standard deviation values.\n",
    "\n",
    "### Normalize a table column\n",
    "\n",
    "To normalize a table column containing random data using a formula:\n",
    "```\n",
    "normalize(X) = (X - mean(X))/std(X)\n",
    "```\n",
    "we apply the following UDF to a table column:"
   ]
  },
  {
   "cell_type": "code",
   "execution_count": null,
   "metadata": {},
   "outputs": [],
   "source": [
    "@omnisci('double(double, double, double)')\n",
    "def normalize_udf(x, mean, std):\n",
    "    return (x - mean)/std"
   ]
  },
  {
   "cell_type": "code",
   "execution_count": null,
   "metadata": {},
   "outputs": [],
   "source": [
    "X_udf = SQL('SELECT normalize_udf(X, 10, 2) FROM test_data')\n",
    "print(f'mean(X_udf)={np.mean(X_udf):.3f}, std(X_udf)={np.std(X_udf, ddof=1):.3f}')"
   ]
  },
  {
   "cell_type": "markdown",
   "metadata": {},
   "source": [
    "As expected, the mean of a normalized column is close to 0 and the standard deviation is close to 1.\n",
    "\n",
    "In case the mean and standard deviation of the data column are unknown, we can compute the mean and std using the Welford algorithm and normalize the data in a single call to the following table function:"
   ]
  },
  {
   "cell_type": "code",
   "execution_count": null,
   "metadata": {},
   "outputs": [],
   "source": [
    "@omnisci('int32(Column<double>, int32|sizer=RowMultiplier, OutputColumn<double>)')\n",
    "def normalize_udtf(x, m, out):\n",
    "    A = 0.0                         # running mean value\n",
    "    Q = 0.0\n",
    "    for i in range(len(x)):\n",
    "        xi = x[i]\n",
    "        A1 = A + (xi - A) / (i + 1)\n",
    "        Q = Q + (xi - A) * (xi - A1)\n",
    "        A = A1\n",
    "    s = pow(Q / (len(x) - 1), 0.5)   # unbiased std value\n",
    "    for i in range(len(x)):\n",
    "        out[i] = (x[i] - A) / s\n",
    "    return len(x)                    # return the size of output column"
   ]
  },
  {
   "cell_type": "code",
   "execution_count": null,
   "metadata": {},
   "outputs": [],
   "source": [
    "X_udtf = SQL('SELECT * FROM TABLE(normalize_udtf(CURSOR(SELECT X FROM test_data), 1))')\n",
    "print(f'mean(X_udtf)={np.mean(X_udtf):.3f}, std(X_udtf)={np.std(X_udtf, ddof=1):.3f}')"
   ]
  },
  {
   "cell_type": "markdown",
   "metadata": {},
   "source": [
    "As expected, the mean and std values of normalized sequence are exactly 0 and 1, respectively."
   ]
  },
  {
   "cell_type": "markdown",
   "metadata": {},
   "source": [
    "### Final notes\n",
    "\n",
    "- Table functions currently work only on CUDA-disabled OmnisciDB server.\n",
    "- SQL aggregate functions and likely other operations do not work on table functions, for example:\n"
   ]
  },
  {
   "cell_type": "code",
   "execution_count": null,
   "metadata": {},
   "outputs": [],
   "source": [
    "try:\n",
    "    SQL('SELECT AVG(out0) FROM TABLE(normalize_udtf(CURSOR(SELECT X FROM test_data), 1))')\n",
    "except Exception as msg:\n",
    "    print(msg)"
   ]
  },
  {
   "cell_type": "markdown",
   "metadata": {},
   "source": [
    "As a workaround, one can save the table function result in a auxiliary table and apply SQL operations to it's columns:"
   ]
  },
  {
   "cell_type": "code",
   "execution_count": null,
   "metadata": {},
   "outputs": [],
   "source": [
    "SQL('DROP TABLE IF EXISTS result_data');\n",
    "SQL('CREATE TABLE IF NOT EXISTS result_data (Y DOUBLE)')\n",
    "SQL('INSERT INTO result_data (Y) SELECT out0 FROM TABLE(normalize_udtf(CURSOR(SELECT X FROM test_data), 1))')\n",
    "SQL('SELECT AVG(Y) FROM result_data')"
   ]
  }
 ],
 "metadata": {
  "kernelspec": {
   "display_name": "Python 3",
   "language": "python",
   "name": "python3"
  },
  "language_info": {
   "codemirror_mode": {
    "name": "ipython",
    "version": 3
   },
   "file_extension": ".py",
   "mimetype": "text/x-python",
   "name": "python",
   "nbconvert_exporter": "python",
   "pygments_lexer": "ipython3",
   "version": "3.7.9"
  }
 },
 "nbformat": 4,
 "nbformat_minor": 4
}
