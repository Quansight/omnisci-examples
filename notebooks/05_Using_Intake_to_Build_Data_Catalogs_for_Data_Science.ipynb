{
 "cells": [
  {
   "cell_type": "markdown",
   "metadata": {},
   "source": [
    "# Using Intake to Build Data Catalogs for Data Science\n",
    "\n",
    "Topics included in this notebook:\n",
    "\n",
    "* [What is Intake](#intake)\n",
    "* [Intake Example - Using URIs to OmniSci Databases and SQL Expressions](#example1)"
   ]
  },
  {
   "cell_type": "markdown",
   "metadata": {},
   "source": [
    "<a id='intake'></a>\n",
    "## What is Intake"
   ]
  },
  {
   "cell_type": "markdown",
   "metadata": {},
   "source": [
    "***[Intake](https://intake.readthedocs.io) - Taking the pain out of data access and distribution***\n",
    "\n",
    "[Intake](https://intake.readthedocs.io) is a lightweight package for finding, investigating,   \n",
    "loading and disseminating data. It is useful for a variety of different groups and acts as   \n",
    "a common platform that everyone can use to smooth the progression of data from developers   \n",
    "and providers to users.\n",
    "    \n",
    "It is a cataloging system for listing data sources, their metadata and parameters, and   \n",
    "referencing which of driver should load each. In short, [Intake](https://intake.readthedocs.io)   \n",
    "allows the user to specify data sources via human-readable YAML catalogs, and then   \n",
    "transparently load them and begin analyzing data.\n",
    "\n",
    "For this example, we'll use an intake plugin for accessing OmniSci databases. "
   ]
  },
  {
   "cell_type": "markdown",
   "metadata": {},
   "source": [
    "<a id='example1'></a>\n",
    "## Intake Example - Using URIs to OmniSci Databases and SQL Expressions\n",
    "\n",
    "As an example, we'll use a catalog which uses a URI to an OmniSci Database and SQL expressions.\n",
    "\n",
    "We begin by loading the catalog file:"
   ]
  },
  {
   "cell_type": "code",
   "execution_count": null,
   "metadata": {},
   "outputs": [],
   "source": [
    "import intake\n",
    "uri_catalog = intake.open_catalog('../catalog_uri.yml')"
   ]
  },
  {
   "cell_type": "markdown",
   "metadata": {},
   "source": [
    "We can interactively inspect the items in the catalog:"
   ]
  },
  {
   "cell_type": "code",
   "execution_count": null,
   "metadata": {},
   "outputs": [],
   "source": [
    "list(uri_catalog)"
   ]
  },
  {
   "cell_type": "markdown",
   "metadata": {},
   "source": [
    "We can also display the individual catalog items to get more information:"
   ]
  },
  {
   "cell_type": "code",
   "execution_count": null,
   "metadata": {},
   "outputs": [],
   "source": [
    "uri_catalog.flights"
   ]
  },
  {
   "cell_type": "markdown",
   "metadata": {},
   "source": [
    "With the catalog loaded, we can read full datasets into memory."
   ]
  },
  {
   "cell_type": "code",
   "execution_count": null,
   "metadata": {},
   "outputs": [],
   "source": [
    "fault_df = uri_catalog.faults.read()\n",
    "In [ ]:\n",
    "    "
   ]
  },
  {
   "cell_type": "code",
   "execution_count": null,
   "metadata": {},
   "outputs": [],
   "source": [
    "fault_df.head()"
   ]
  }
 ],
 "metadata": {
  "kernelspec": {
   "display_name": "Python 3",
   "language": "python",
   "name": "python3"
  },
  "language_info": {
   "codemirror_mode": {
    "name": "ipython",
    "version": 3
   },
   "file_extension": ".py",
   "mimetype": "text/x-python",
   "name": "python",
   "nbconvert_exporter": "python",
   "pygments_lexer": "ipython3",
   "version": "3.7.8"
  }
 },
 "nbformat": 4,
 "nbformat_minor": 4
}
