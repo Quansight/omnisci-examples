{
 "cells": [
  {
   "cell_type": "markdown",
   "metadata": {},
   "source": [
    "# OmniSci - Ibis - Holoviews - hvPlot\n",
    "\n",
    "![](https://avatars1.githubusercontent.com/u/7553829?s=200&v=4)    ![](https://avatars1.githubusercontent.com/u/34879953?s=200&v=4) \n",
    "\n",
    "### Bio\n",
    "\n",
    "Tony Fast is a Developer Advocate at Quansight with a passion for literate programing and a contributor to Jupyter and HoloViz.\n",
    "\n",
    "Kim Pevey is a Software Engineer at Quansight with an interest for analyzing big data with visualization tools in python. She is also a contributor to HoloViz.\n",
    "\n",
    "### Abstract\n",
    "This notebook demonstrates visualizations of OmniSci Database data using   \n",
    "the Holoviz tools Holoviews and hvPlot. The connection between the OmniSci  \n",
    "Database and Holoviz is an OmniSci backend in Ibis"
   ]
  },
  {
   "cell_type": "code",
   "execution_count": null,
   "metadata": {
    "jupyter": {
     "source_hidden": true
    }
   },
   "outputs": [],
   "source": [
    "    __import__(\"graphviz\").Source(\"\"\"graph {layout=circo \n",
    "    {{intake -- {ibis -- pandas}} -- {holoviews}}--hvplot geoviews--{holoviews hvplot}[style=dotted]}\n",
    "    \"\"\")"
   ]
  },
  {
   "cell_type": "markdown",
   "metadata": {},
   "source": [
    "### `holoviews` - a high level plotting interface\n",
    "\n",
    "### `hvplot` - a plotting interface for python datatypes\n",
    "\n",
    "> #### We'll demonstrate these tools by plotting voting data from 2008. Let's get started!"
   ]
  },
  {
   "cell_type": "code",
   "execution_count": null,
   "metadata": {},
   "outputs": [],
   "source": [
    "import ibis\n",
    "import holoviews as hv\n",
    "from holoviews import opts\n",
    "import numpy as np\n",
    "import hvplot.ibis\n",
    "\n",
    "from ibis.backends import omniscidb as ibis_omniscidb\n",
    "\n",
    "hv.extension('bokeh')"
   ]
  },
  {
   "cell_type": "markdown",
   "metadata": {},
   "source": [
    "### establish the connection to the database"
   ]
  },
  {
   "cell_type": "code",
   "execution_count": null,
   "metadata": {},
   "outputs": [],
   "source": [
    "client = ibis_omniscidb.connect(\n",
    "    user=\"mapd\", \n",
    "    password=\"HyperInteractive\", \n",
    "    host=\"metis.mapd.com\", \n",
    "    database=\"mapd\", \n",
    "    port=443, \n",
    "    protocol='https'\n",
    ")"
   ]
  },
  {
   "cell_type": "markdown",
   "metadata": {},
   "source": [
    "### get the table"
   ]
  },
  {
   "cell_type": "code",
   "execution_count": null,
   "metadata": {},
   "outputs": [],
   "source": [
    "votes = client.table('demo_vote_clean')\n",
    "votes"
   ]
  },
  {
   "cell_type": "code",
   "execution_count": null,
   "metadata": {},
   "outputs": [],
   "source": [
    "votes.head().execute()"
   ]
  },
  {
   "cell_type": "markdown",
   "metadata": {},
   "source": [
    "> #### we'll need to convert the percentage of votes for each candidate into a concrete number of votes using `ibis`\n"
   ]
  },
  {
   "cell_type": "markdown",
   "metadata": {},
   "source": [
    "### convert percentages to total votes"
   ]
  },
  {
   "cell_type": "code",
   "execution_count": null,
   "metadata": {},
   "outputs": [],
   "source": [
    "votes = votes.mutate(\n",
    "        democrat=votes.Population.mul(votes.Obama),\n",
    "        republican=votes.Population.mul(votes.Romney),\n",
    "    )"
   ]
  },
  {
   "cell_type": "markdown",
   "metadata": {},
   "source": [
    "### aggregate votes by state (StateAbb)"
   ]
  },
  {
   "cell_type": "code",
   "execution_count": null,
   "metadata": {},
   "outputs": [],
   "source": [
    "voted = votes.groupby('StateAbb').aggregate(democrat=votes.democrat.sum(), republican=votes.republican.sum())"
   ]
  },
  {
   "cell_type": "markdown",
   "metadata": {},
   "source": [
    "We can pass our new table directly to the Bar Chart constructor in Holoviews.   \n",
    "Since we haven't provided and specifics of what we'd like to see displayed,   \n",
    "Holoviews takes a guess at the dimensions for the plot. "
   ]
  },
  {
   "cell_type": "code",
   "execution_count": null,
   "metadata": {},
   "outputs": [],
   "source": [
    "hv_bar = hv.Bars(voted).opts(show_grid=True, width=900, height=500)\n",
    "hv_bar"
   ]
  },
  {
   "cell_type": "markdown",
   "metadata": {},
   "source": [
    "Let's look at what Holoviews came up with."
   ]
  },
  {
   "cell_type": "code",
   "execution_count": null,
   "metadata": {},
   "outputs": [],
   "source": [
    "print(f'kdims: {hv_bar.kdims}')\n",
    "print(f'vdims: {hv_bar.vdims}')"
   ]
  },
  {
   "cell_type": "markdown",
   "metadata": {},
   "source": [
    "### overlayed `holoviews` plots"
   ]
  },
  {
   "cell_type": "markdown",
   "metadata": {},
   "source": [
    "> #### Holoviews has chosen the correct kdims, but the Bar chart can only visualize  one vdim at a time. The overlay functionality will allow us to construct two Bar charts, one each for `democrat` and `republican`, and layer them on top of one another."
   ]
  },
  {
   "cell_type": "code",
   "execution_count": null,
   "metadata": {},
   "outputs": [],
   "source": [
    "(\n",
    "    hv.Bars(voted, \n",
    "            kdims=['StateAbb'], \n",
    "            vdims=['democrat'])\n",
    "    # * is overlay that places plots on the same axes\n",
    "    * hv.Bars(voted, \n",
    "              kdims=['StateAbb'], \n",
    "              vdims=['republican'])\n",
    ").opts(\n",
    "    xlabel='State Abbreviation', \n",
    "    ylabel='Number of votes', \n",
    "    active_tools=['wheel_zoom','pan'],\n",
    "    title='Number of Democrat (Blue) and Republican (Red) Votes per State', \n",
    "    show_grid=True, \n",
    "    width=900, \n",
    "    height=500\n",
    ")"
   ]
  },
  {
   "cell_type": "markdown",
   "metadata": {},
   "source": [
    "### overlayed `hvplot`\n",
    "\n",
    "Let's create the same view using hvplot."
   ]
  },
  {
   "cell_type": "markdown",
   "metadata": {},
   "source": [
    "##### overlayed axes"
   ]
  },
  {
   "cell_type": "code",
   "execution_count": null,
   "metadata": {},
   "outputs": [],
   "source": [
    "(\n",
    "    voted.hvplot.bar('StateAbb', 'democrat')\n",
    "    * voted.hvplot.bar('StateAbb', 'republican')\n",
    ").opts(width=1000)"
   ]
  },
  {
   "cell_type": "markdown",
   "metadata": {},
   "source": [
    "##### side by side axes"
   ]
  },
  {
   "cell_type": "code",
   "execution_count": null,
   "metadata": {},
   "outputs": [],
   "source": [
    "voted = voted.head(10)\n",
    "(\n",
    "    (voted.hvplot.bar('StateAbb', 'democrat'))\n",
    "    + voted.hvplot.bar('StateAbb', 'republican')\n",
    ")"
   ]
  },
  {
   "cell_type": "markdown",
   "metadata": {},
   "source": [
    "We can create the same plot as the lower level Holoviews library, but  \n",
    "hvplot doesn't require you to explicitly set the dimensions. Instead, it    \n",
    "allows users to ask for the bits of data that they'd like to see plotted.    \n",
    "Hvplot sorts out the details for you."
   ]
  },
  {
   "cell_type": "markdown",
   "metadata": {},
   "source": [
    "### Onto a really complicated example.\n",
    "### hold on to your hats."
   ]
  }
 ],
 "metadata": {
  "kernelspec": {
   "display_name": "Python 3",
   "language": "python",
   "name": "python3"
  },
  "language_info": {
   "codemirror_mode": {
    "name": "ipython",
    "version": 3
   },
   "file_extension": ".py",
   "mimetype": "text/x-python",
   "name": "python",
   "nbconvert_exporter": "python",
   "pygments_lexer": "ipython3",
   "version": "3.7.8"
  }
 },
 "nbformat": 4,
 "nbformat_minor": 4
}
