{
 "cells": [
  {
   "cell_type": "markdown",
   "metadata": {},
   "source": [
    "# a complex dashboard style interface for omnisci\n",
    "\n",
    "1. define datasets\n",
    "2. build indivudal plots\n",
    "3. combine plots into a linked dashboard."
   ]
  },
  {
   "cell_type": "code",
   "execution_count": null,
   "metadata": {},
   "outputs": [],
   "source": [
    "import holoviews as hv\n",
    "import pandas as pd\n",
    "from holoviews import dim\n",
    "import colorcet\n",
    "import numpy as np\n",
    "hv.extension('bokeh')"
   ]
  },
  {
   "cell_type": "markdown",
   "metadata": {},
   "source": [
    "### As always, connect to the omnisci database with `ibis`"
   ]
  },
  {
   "cell_type": "code",
   "execution_count": null,
   "metadata": {},
   "outputs": [],
   "source": [
    "import ibis\n",
    "\n",
    "conn = ibis.omniscidb.connect(\n",
    "    host='metis.mapd.com', user='demouser', password='HyperInteractive',\n",
    "    port=443, database='mapd', protocol='https'\n",
    ")"
   ]
  },
  {
   "cell_type": "markdown",
   "metadata": {},
   "source": [
    "### We'll explore a complex application with the flights data table available in the omnisci repo."
   ]
  },
  {
   "cell_type": "code",
   "execution_count": null,
   "metadata": {},
   "outputs": [],
   "source": [
    "flights = conn.table(\"flights_donotmodify\")"
   ]
  },
  {
   "cell_type": "markdown",
   "metadata": {},
   "source": [
    "#### and select a sample of the data"
   ]
  },
  {
   "cell_type": "code",
   "execution_count": null,
   "metadata": {},
   "outputs": [],
   "source": [
    "air = flights[flights.depdelay, flights.arrdelay, flights.carrier_name, flights.origin_state, flights.dep_timestamp]\n",
    "air.head().execute()"
   ]
  },
  {
   "cell_type": "markdown",
   "metadata": {},
   "source": [
    "### aggregate the data on the server\n",
    "#### group by carrier name and compute the average of arrival delay and departure delay"
   ]
  },
  {
   "cell_type": "code",
   "execution_count": null,
   "metadata": {},
   "outputs": [],
   "source": [
    "air_expr = air.groupby(\n",
    "    air.carrier_name\n",
    ").aggregate(\n",
    "    arrdelay_avg=air.arrdelay.mean(), \n",
    "    depdelay_avg=air.depdelay.mean()\n",
    ")\n",
    "air_expr.head().execute()"
   ]
  },
  {
   "cell_type": "markdown",
   "metadata": {},
   "source": [
    "### Connecting user events to omnisci databases.\n",
    "\n",
    "### Using Holoviews Dataset to see what the data looks like.\n",
    "\n",
    "we'll look at the arrivals and depatures of different airlines over time."
   ]
  },
  {
   "cell_type": "code",
   "execution_count": null,
   "metadata": {},
   "outputs": [],
   "source": [
    "from holoviews.operation.timeseries import resample\n",
    "\n",
    "main_dataset = hv.Dataset(air, kdims=['dep_timestamp','arrdelay'])\n",
    "agg_dataset = hv.Dataset(air_expr , kdims=['depdelay_avg', 'arrdelay_avg']).compute()\n",
    "\n",
    "print(main_dataset)\n",
    "print(agg_dataset)"
   ]
  },
  {
   "cell_type": "markdown",
   "metadata": {},
   "source": [
    "### Visualizing the Holoviews Dataset"
   ]
  },
  {
   "cell_type": "code",
   "execution_count": null,
   "metadata": {},
   "outputs": [],
   "source": [
    "summary_scatter = hv.Scatter(agg_dataset)\n",
    "sel_stream = hv.streams.Selection1D(source=summary_scatter, index=[])\n",
    "\n",
    "def tap_plot(index):\n",
    "    carriers = list(agg_dataset.iloc[index]['carrier_name'])\n",
    "    if not carriers:\n",
    "        return hv.Curve(air.head(1).execute(), 'dep_timestamp', 'arrdelay')\n",
    "    selection = main_dataset.select(carrier_name=carriers[0])\n",
    "    timeseries = hv.Curve(selection, 'dep_timestamp', 'arrdelay').aggregate(function=np.mean).persist()\n",
    "    return resample(timeseries, rule='H')\n",
    "\n",
    "tap_dmap = hv.DynamicMap(tap_plot, streams=[sel_stream])\n",
    "\n",
    "summary_scatter.opts(tools=['hover', 'tap'], size=10) + tap_dmap.opts(framewise=True)"
   ]
  },
  {
   "cell_type": "markdown",
   "metadata": {},
   "source": [
    "### Another Holoviews Dataset example"
   ]
  },
  {
   "cell_type": "code",
   "execution_count": null,
   "metadata": {},
   "outputs": [],
   "source": [
    "ds = hv.Dataset(flights)\n",
    "\n",
    "origin_bars = (\n",
    "    hv.Bars(ds, 'origin_city', 'flightnum')\n",
    "    .aggregate('origin_city', np.count_nonzero)\n",
    "    .sort('flightnum', reverse=True)\n",
    "    .compute()\n",
    "    .iloc[:10]\n",
    ")\n",
    "origin_bars.opts(xrotation=45, width=1000, height=300, show_grid=True)"
   ]
  },
  {
   "cell_type": "markdown",
   "metadata": {},
   "source": [
    "#### What happens when there are errors in the the plot configuration??\n",
    "\n",
    "`holoviews` gives useful error messages that make it possible to build visualization without referring to the docs."
   ]
  },
  {
   "cell_type": "code",
   "execution_count": null,
   "metadata": {},
   "outputs": [],
   "source": [
    "    try:\n",
    "        origin_bars.opts(xrotation=45, width=1000, height=300, grid=True)\n",
    "    except ValueError as E: print(E)"
   ]
  },
  {
   "cell_type": "markdown",
   "metadata": {},
   "source": [
    "## Network graphs example"
   ]
  },
  {
   "cell_type": "markdown",
   "metadata": {},
   "source": [
    "### achordgraph\n",
    "\n",
    "from the `holoviews` docs.\n",
    "\n",
    "> Chord is a special type of Graph which computes the locations of\n",
    "    each node on a circle and the chords connecting them. The amount\n",
    "    of radial angle devoted to each node and the number of chords are\n",
    "    scaled by a weight supplied as a value dimension."
   ]
  },
  {
   "cell_type": "markdown",
   "metadata": {},
   "source": [
    "`connections` is a `holoviews` expressions in a form that a chord plot can be created with."
   ]
  },
  {
   "cell_type": "code",
   "execution_count": null,
   "metadata": {},
   "outputs": [],
   "source": [
    "connections = (\n",
    "    ds.clone(kdims=['origin_city', 'dest_city', 'origin_merc_x', 'origin_merc_y', 'dest_merc_x', 'dest_merc_y'],\n",
    "             vdims=['flightnum'])\n",
    "    .select(origin_city=list(origin_bars.dimension_values('origin_city', expanded=False)))\n",
    "    .aggregate(function=np.count_nonzero)\n",
    "    .compute()\n",
    "    .sort('flightnum', reverse=True)\n",
    "    .iloc[:200]\n",
    ")\n",
    "connections.data.iloc[:2]"
   ]
  },
  {
   "cell_type": "code",
   "execution_count": null,
   "metadata": {},
   "outputs": [],
   "source": [
    "chord = hv.Chord(connections.sort('origin_city'), ['origin_city', 'dest_city']).opts(\n",
    "    edge_color='origin_city', node_color='index', cmap='Category20', tools=['hover', 'tap'],\n",
    "    labels='index', width=500, height=500\n",
    ")\n",
    "chord"
   ]
  },
  {
   "cell_type": "markdown",
   "metadata": {},
   "source": [
    "### plotting data onto maps"
   ]
  },
  {
   "cell_type": "markdown",
   "metadata": {},
   "source": [
    "`holoviews` contains tools for different web map tile services."
   ]
  },
  {
   "cell_type": "code",
   "execution_count": null,
   "metadata": {},
   "outputs": [],
   "source": [
    "hv.element.tiles.Wikipedia() + hv.element.tiles.CartoLight() + hv.element.tiles.ESRI()"
   ]
  },
  {
   "cell_type": "code",
   "execution_count": null,
   "metadata": {},
   "outputs": [],
   "source": [
    "segs = hv.Segments(connections, ['origin_merc_x', 'origin_merc_y', 'dest_merc_x', 'dest_merc_y'], 'flightnum')\n",
    "locs = hv.Points(connections, ['origin_merc_x', 'origin_merc_y'], 'origin_city')\n",
    "\n",
    "tiles = hv.element.tiles.Wikipedia()\n",
    "\n",
    "(tiles\n",
    " * segs.opts(line_width=hv.dim('flightnum').norm()*10, width=500, height=500, xaxis=None, yaxis=None, alpha=0.5)\n",
    " * locs.opts(size=5, fill_color='white', color='black', tools=['hover'])\n",
    ")"
   ]
  },
  {
   "cell_type": "markdown",
   "metadata": {},
   "source": [
    "### putting the plots together\n",
    "\n",
    "> Currently we're working off of two PRs so this is new development.  \n"
   ]
  },
  {
   "cell_type": "code",
   "execution_count": null,
   "metadata": {},
   "outputs": [],
   "source": [
    "import panel as pn\n",
    "\n",
    "ls = hv.link_selections.instance()\n",
    "\n",
    "pn.Column(\n",
    "    ls(origin_bars),\n",
    "    pn.Row(chord, tiles * ls(segs) * ls(locs))\n",
    ")"
   ]
  },
  {
   "cell_type": "markdown",
   "metadata": {},
   "source": [
    "## another projection of the flights data"
   ]
  },
  {
   "cell_type": "code",
   "execution_count": null,
   "metadata": {},
   "outputs": [],
   "source": [
    "import panel as pn\n",
    "\n",
    "ls = hv.link_selections.instance()\n",
    "\n",
    "ds = hv.Dataset(flights)\n",
    "\n",
    "origin_points = (\n",
    "    hv.Points(ds.clone(vdims=['flightnum'])\n",
    "        .aggregate(['origin_city', 'origin_merc_x', 'origin_merc_y'], np.count_nonzero),\n",
    "        ['origin_merc_x', 'origin_merc_y'], ['origin_city', 'flightnum']\n",
    "    ).sort('flightnum', reverse=True)\n",
    "    .compute()\n",
    "    .iloc[:20]\n",
    ").opts(xaxis=None, yaxis=None, width=800, height=800, size=5+hv.dim('flightnum').norm()*15, color='black', tools=['hover'])\n",
    "\n",
    "tiles = hv.element.tiles.Wikipedia()\n",
    "\n",
    "top_airports = list(origin_bars.dimension_values('origin_city', expanded=False))\n",
    "top_airport_ds = ds.select(origin_city=top_airports)\n",
    "\n",
    "hists = []\n",
    "for delay in ('depdelay', 'securitydelay', 'lateaircraftdelay', 'weatherdelay'):\n",
    "    delay_hist = top_airport_ds.hist(delay, adjoin=False, bin_range=(0, 60), normed=False).opts(frame_width=200, height=200)\n",
    "    hists.append(ls(delay_hist))\n",
    "    \n",
    "pn.Column(\n",
    "    '# Delay Explorer',\n",
    "    pn.Row(\n",
    "        hv.Layout(hists).cols(1),\n",
    "        tiles * ls(origin_points)\n",
    "    )\n",
    ")"
   ]
  },
  {
   "cell_type": "markdown",
   "metadata": {},
   "source": [
    "This is what it looks like when we put OmniSci, hvPlot, Holoviews, Pandas, GeoViews, Ibis, and Panel together. "
   ]
  },
  {
   "cell_type": "code",
   "execution_count": null,
   "metadata": {
    "jupyter": {
     "source_hidden": true
    }
   },
   "outputs": [],
   "source": [
    "    __import__(\"graphviz\").Source(\"\"\"graph {layout=circo \n",
    "    {{intake -- {ibis -- pandas}} -- {holoviews}}--hvplot geoviews--{holoviews hvplot}[style=dotted]}\n",
    "    \"\"\")"
   ]
  }
 ],
 "metadata": {
  "kernelspec": {
   "display_name": "Python 3",
   "language": "python",
   "name": "python3"
  },
  "language_info": {
   "codemirror_mode": {
    "name": "ipython",
    "version": 3
   },
   "file_extension": ".py",
   "mimetype": "text/x-python",
   "name": "python",
   "nbconvert_exporter": "python",
   "pygments_lexer": "ipython3",
   "version": "3.7.8"
  },
  "widgets": {
   "application/vnd.jupyter.widget-state+json": {
    "state": {},
    "version_major": 2,
    "version_minor": 0
   }
  }
 },
 "nbformat": 4,
 "nbformat_minor": 4
}
