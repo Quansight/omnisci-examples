{
 "cells": [
  {
   "cell_type": "markdown",
   "metadata": {},
   "source": [
    "# Example of omniscidb UDF/UDTF: Black-Scholes Model"
   ]
  },
  {
   "cell_type": "code",
   "execution_count": null,
   "metadata": {},
   "outputs": [],
   "source": [
    "%%html\n",
    "\n",
    "<iframe src=\"https://docs.google.com/presentation/d/e/2PACX-1vQZGYxXWJODxVaBvThiBQvsWakQrBpHsdyNb8LGF1OTFzW2fTo0hHsJV223XHGhDhvmBIpS-nb-62YS/embed?start=false&loop=false&delayms=60000\" frameborder=\"0\" width=\"960\" height=\"749\" allowfullscreen=\"true\" mozallowfullscreen=\"true\" webkitallowfullscreen=\"true\"></iframe>"
   ]
  },
  {
   "cell_type": "markdown",
   "metadata": {},
   "source": [
    "The aim of this notebook is to demonstrate how one can enhance OmniSciDB capabilities with UDF (User-Defined Functions) and UDTF (User-Defined Table Functions). For that end, we will demonstrate how one can create, register and invoke UDFs/UDTFs using [RBC](https://github.com/xnd-project/rbc) and [Numba](https://github.com/numba/numba)."
   ]
  },
  {
   "cell_type": "markdown",
   "metadata": {},
   "source": [
    "## Black-Scholes Model"
   ]
  },
  {
   "cell_type": "markdown",
   "metadata": {},
   "source": [
    "The [Black-Scholes model](https://en.wikipedia.org/wiki/Black%E2%80%93Scholes_model) describes the price of an option over time. "
   ]
  },
  {
   "cell_type": "markdown",
   "metadata": {},
   "source": [
    "$C(S_t, t) = N(d_1)S_t - N(d_2)PV(K)$"
   ]
  },
  {
   "cell_type": "markdown",
   "metadata": {},
   "source": [
    "$d_1 = \\frac{1}{\\sigma \\sqrt{T - t}} [\\ln(\\frac{S_t}{K}) + (r + \\frac{\\sigma^2}{2})(T - t)]$"
   ]
  },
  {
   "cell_type": "markdown",
   "metadata": {},
   "source": [
    "$d_2 = d_1-\\sigma \\sqrt{T-t}$"
   ]
  },
  {
   "cell_type": "markdown",
   "metadata": {},
   "source": [
    "$PV(K) = K e^{-r(T-t)}$"
   ]
  },
  {
   "cell_type": "markdown",
   "metadata": {},
   "source": [
    "where\n",
    "* $N$ is the standard normal cummulative distribution function (CDF)\n",
    "* $T-t$ is the time to maturity\n",
    "* $S$ is the spot price\n",
    "* $K$ is the strike price\n",
    "* $r$ is the risk-free rate\n",
    "* $\\sigma$ is the volatity of returns of the underlying asset."
   ]
  },
  {
   "cell_type": "markdown",
   "metadata": {},
   "source": [
    "## Connecting to the OmniSciDB server"
   ]
  },
  {
   "cell_type": "markdown",
   "metadata": {},
   "source": [
    "Let's establish a connection to the OmniSciDB server"
   ]
  },
  {
   "cell_type": "code",
   "execution_count": null,
   "metadata": {},
   "outputs": [],
   "source": [
    "import warnings; warnings.filterwarnings('ignore')"
   ]
  },
  {
   "cell_type": "code",
   "execution_count": null,
   "metadata": {},
   "outputs": [],
   "source": [
    "import rbc\n",
    "assert rbc.__version__[:3] >= '0.4', rbc.__version__\n",
    "print(f'RBC version {rbc.__version__}')"
   ]
  },
  {
   "cell_type": "markdown",
   "metadata": {},
   "source": [
    "This notebook requires OmnisciDB version 5.4 or newer and rbc version 0.4 or newer. If the above fails or one is connected to older version of OmnisciDB, please resolve the issue before continuing."
   ]
  },
  {
   "cell_type": "code",
   "execution_count": null,
   "metadata": {},
   "outputs": [],
   "source": [
    "from rbc.omniscidb import RemoteOmnisci\n",
    "omnisci = RemoteOmnisci(user='admin', password='HyperInteractive',\n",
    "                     host='127.0.0.1', port=16274, dbname='omnisci')"
   ]
  },
  {
   "cell_type": "markdown",
   "metadata": {},
   "source": [
    "```python\n",
    "\n",
    "    @omnisci('double(double, double, double, double, double)')\n",
    "    def black_scholes_UDF(S, X, T, r, sigma):\n",
    "        # ...\n",
    "```"
   ]
  },
  {
   "cell_type": "code",
   "execution_count": null,
   "metadata": {},
   "outputs": [],
   "source": [
    "print(f'Connecting to OmnisciDB version {omnisci.version}')\n",
    "assert omnisci.version[:3] >= (5, 4, 0), omnisci.version"
   ]
  },
  {
   "cell_type": "markdown",
   "metadata": {},
   "source": [
    "## Test Data"
   ]
  },
  {
   "cell_type": "markdown",
   "metadata": {},
   "source": [
    "For this notebook, we will simulate a financial Black-Scholes model using using data from the following website:\n",
    "- http://www.scientific-consultants.com/nnbd.html"
   ]
  },
  {
   "cell_type": "markdown",
   "metadata": {},
   "source": [
    "Read and adjust the test data"
   ]
  },
  {
   "cell_type": "code",
   "execution_count": null,
   "metadata": {},
   "outputs": [],
   "source": [
    "import pandas as pd\n",
    "\n",
    "# Data taken from\n",
    "# http://www.scientific-consultants.com/nnbd.html\n",
    "df = pd.read_csv('data_black_scholes.csv', sep=',')\n",
    "df['S'] = 100.0\n",
    "df['r'] = 0.0\n",
    "df['TIME'] = df['TIME'] / 252\n",
    "df.tail()"
   ]
  },
  {
   "cell_type": "markdown",
   "metadata": {},
   "source": [
    "#### Create a table named `black_scholes` in the database:"
   ]
  },
  {
   "cell_type": "code",
   "execution_count": null,
   "metadata": {},
   "outputs": [],
   "source": [
    "SQL=lambda query: list(omnisci.sql_execute(query)[1])\n",
    "SQL('drop table if exists black_scholes')\n",
    "SQL('create table if not exists black_scholes ('\n",
    "    ' S DOUBLE, X DOUBLE, T DOUBLE, r DOUBLE,'\n",
    "    ' sigma DOUBLE, OPRICE DOUBLE);');"
   ]
  },
  {
   "cell_type": "markdown",
   "metadata": {},
   "source": [
    "Insert data into the database:"
   ]
  },
  {
   "cell_type": "code",
   "execution_count": null,
   "metadata": {},
   "outputs": [],
   "source": [
    "S = df['S']\n",
    "X = df['STRIKE']\n",
    "T = df['TIME']\n",
    "r = df['r']\n",
    "sigma = df['VLTY']\n",
    "OPRICE = df['OPRICE']"
   ]
  },
  {
   "cell_type": "code",
   "execution_count": null,
   "metadata": {},
   "outputs": [],
   "source": [
    "print(omnisci.load_table_columnar.__doc__)"
   ]
  },
  {
   "cell_type": "code",
   "execution_count": null,
   "metadata": {},
   "outputs": [],
   "source": [
    "omnisci.load_table_columnar('black_scholes', S=S, X=X, T=T, r=r, sigma=sigma, OPRICE=OPRICE)"
   ]
  },
  {
   "cell_type": "markdown",
   "metadata": {},
   "source": [
    "Verify that the table **black_scholes** contains the data:"
   ]
  },
  {
   "cell_type": "code",
   "execution_count": null,
   "metadata": {},
   "outputs": [],
   "source": [
    "result = SQL('SELECT X, T, sigma, OPRICE FROM black_scholes;')\n",
    "df2 = pd.DataFrame(result, columns=['STRIKE', 'TIME', 'VLTY', 'OPRICE'])\n",
    "df2.tail()"
   ]
  },
  {
   "cell_type": "code",
   "execution_count": null,
   "metadata": {},
   "outputs": [],
   "source": [
    "result = SQL('SELECT COUNT(*) FROM black_scholes;')\n",
    "print(f'Number of rows: {result[0]}')"
   ]
  },
  {
   "cell_type": "markdown",
   "metadata": {},
   "source": [
    "## Why use UDF/UDTF?"
   ]
  },
  {
   "cell_type": "markdown",
   "metadata": {},
   "source": [
    "For large datasets, retrieving the data from the server might not be viable due to hardware and/or network limitation. In those cases, makes sense to do the computation in the server rather than locally."
   ]
  },
  {
   "cell_type": "markdown",
   "metadata": {},
   "source": [
    "OmnisciDB server v5.4 implements support for users to define UDFs and UDTFs. The former applies a function to a table data row-by-row while the latter is applied to an entire column."
   ]
  },
  {
   "cell_type": "markdown",
   "metadata": {},
   "source": [
    "The UDFs and table functions can be defined as Python functions using the [RBC](https://github.com/xnd-project/rbc/) tool that exploits [Numba](https://github.com/numba/numba) to convert Python functions to [LLVM intermediate representation](https://en.wikipedia.org/wiki/LLVM) and these are registered in the OmnisciDB server."
   ]
  },
  {
   "cell_type": "markdown",
   "metadata": {},
   "source": [
    "## Compute the Black-Scholes model remotely using OmnisciDB UDFs"
   ]
  },
  {
   "cell_type": "markdown",
   "metadata": {},
   "source": [
    "The following cells will register a function to be called from inside omniscidb"
   ]
  },
  {
   "cell_type": "code",
   "execution_count": null,
   "metadata": {},
   "outputs": [],
   "source": [
    "import numba\n",
    "import math\n",
    "from rbc import omnisci_backend as np"
   ]
  },
  {
   "cell_type": "markdown",
   "metadata": {},
   "source": [
    "Define a standard normal CDF using `@numba.njit` decorator that allows calling the CDF from Omnisci UDF/UDTFs:"
   ]
  },
  {
   "cell_type": "code",
   "execution_count": null,
   "metadata": {},
   "outputs": [],
   "source": [
    "@numba.njit\n",
    "def cnd_numba(d):\n",
    "    A1 = 0.31938153\n",
    "    A2 = -0.356563782\n",
    "    A3 = 1.781477937\n",
    "    A4 = -1.821255978\n",
    "    A5 = 1.330274429\n",
    "    RSQRT2PI = 0.39894228040143267793994605993438\n",
    "    K = 1.0 / (1.0 + 0.2316419 * math.fabs(d))\n",
    "    ret_val = (RSQRT2PI * math.exp(-0.5 * d * d) *\n",
    "               (K * (A1 + K * (A2 + K * (A3 + K * (A4 + K * A5))))))\n",
    "    if d > 0:\n",
    "        ret_val = 1.0 - ret_val\n",
    "    return ret_val"
   ]
  },
  {
   "cell_type": "markdown",
   "metadata": {},
   "source": [
    "Next, we'll define a function `black_scholes_UDF` that evaluates the Black-Scholes formula. The function will be registered with Omnisci server so that one can use it in a SQL query. Notice the `@omnisci` decorator takes the signature of the function as argument:\n",
    "- `@omnisci(<signature string>)` or `@omnisci(<list of signature strings>)`\n",
    "\n",
    "In the example below, `black_scholes_UDT` accepts five `double` arguments `(S, X, T, r, sigma)` and returns a `double` value:"
   ]
  },
  {
   "cell_type": "code",
   "execution_count": null,
   "metadata": {},
   "outputs": [],
   "source": [
    "@omnisci('double(double, double, double, double, double)')\n",
    "def black_scholes_UDF(S, X, T, r, sigma):\n",
    "    d1 = (np.log(S/X) + (r + 0.5 * sigma**2)*T) / (sigma * np.sqrt(T))\n",
    "    d2 = d1 - sigma * np.sqrt(T)\n",
    "    \n",
    "    cndd1 = cnd_numba(d1)\n",
    "    cndd2 = cnd_numba(d2)\n",
    "\n",
    "    expRT = math.exp((-1. * r) * T)\n",
    "    \n",
    "    callResult = (S * cndd1 - X * expRT * cndd2)\n",
    "    return callResult"
   ]
  },
  {
   "cell_type": "code",
   "execution_count": null,
   "metadata": {
    "jupyter": {
     "source_hidden": true
    }
   },
   "outputs": [],
   "source": [
    "print(black_scholes_UDF)"
   ]
  },
  {
   "cell_type": "code",
   "execution_count": null,
   "metadata": {},
   "outputs": [],
   "source": [
    "omnisci.register()"
   ]
  },
  {
   "cell_type": "markdown",
   "metadata": {},
   "source": [
    "The following cell illustrates a usage of `black_scholes_UDF` in a SQL query to Omnisci server and compares the results with expected model values:"
   ]
  },
  {
   "cell_type": "code",
   "execution_count": null,
   "metadata": {},
   "outputs": [],
   "source": [
    "result = SQL('''SELECT OPRICE,\n",
    "                black_scholes_UDF(S, X, T, r, sigma)\n",
    "                FROM black_scholes;''')\n",
    "oprice = []\n",
    "for expected, output in result:\n",
    "    oprice.append(output)\n",
    "    if len(oprice) < 5:\n",
    "        print(f'Expected = {expected:.2f}, UDF Model output = {output:.2f}')"
   ]
  },
  {
   "cell_type": "markdown",
   "metadata": {},
   "source": [
    "## Compute the Black-Scholes model remotely using OmnisciDB UDTFs"
   ]
  },
  {
   "cell_type": "markdown",
   "metadata": {},
   "source": [
    "Notice that the UDF `black_scholes_UDF` defined above is applied to table row-by-row. We can avoid the overhead of multiple calls of `black_scholes_UDF` if we re-define it as an UDTF that takes table columns as inputs, apply the Black-Scholes formula, and store the results to output columns:\n",
    "\n",
    "In a UDTF function, a column argument is specified as `Column<type>` (i.e. `Column<int32>`). The last two arguments of a table function (with types `RowMultiplier` and `OutputColumn<double>`) define how the size of the output column is computed and the output column itself. For instance, if `RowMultiplier` value is specified as `sizer=1`, then the output column has the same number of rows as the input columns. If `sizer=2`, then, the output column is twice as big as the input columns. One must always specify at least one `Column`, at least one `OutputColumn`, and exactly one `RowMultiplier` arguments when writing a UDTF.\n",
    "\n",
    "In the example below, `black_scholes_UDTF` receives five double column arguments (`Column<double>`), the sizer argument, and the output column has type `double`. The return value of a UDTF (`int32`) must be the number of rows in output columns; usually it is `sizer` value multiplied by the number of rows in input columns but, in general, it the number of output column rows can be also smaller (but not greater). "
   ]
  },
  {
   "cell_type": "code",
   "execution_count": null,
   "metadata": {},
   "outputs": [],
   "source": [
    "@omnisci('int32(Column<double>, Column<double>, Column<double>, Column<double>, Column<double>,'\n",
    "         ' RowMultiplier, OutputColumn<double>)')\n",
    "def black_scholes_udtf(S, X, T, r, sigma, m, out):\n",
    "    input_row_count = len(X)\n",
    "\n",
    "    for i in range(input_row_count):\n",
    "        d1 = (np.log(S[i]/X[i]) + (r[i] + 0.5 * sigma[i]**2)*T[i]) / (sigma[i] * np.sqrt(T[i]))\n",
    "        out[i] = S[i] + X[i] + T[i] + r[i] + sigma[i]\n",
    "        d2 = d1 - sigma[i] * np.sqrt(T[i])\n",
    "\n",
    "        cndd1 = cnd_numba(d1)\n",
    "        cndd2 = cnd_numba(d2)\n",
    "\n",
    "        expRT = math.exp((-1. * r[i]) * T[i])\n",
    "\n",
    "        out[i] = (S[i] * cndd1 - X[i] * expRT * cndd2)\n",
    "\n",
    "    return m * input_row_count"
   ]
  },
  {
   "cell_type": "markdown",
   "metadata": {},
   "source": [
    "User defined Aggregated function"
   ]
  },
  {
   "cell_type": "code",
   "execution_count": null,
   "metadata": {},
   "outputs": [],
   "source": [
    "omnisci.register()"
   ]
  },
  {
   "cell_type": "code",
   "execution_count": null,
   "metadata": {},
   "outputs": [],
   "source": [
    "result = SQL('SELECT * FROM table(black_scholes_udtf('\n",
    "             ' cursor(SELECT S FROM black_scholes),'\n",
    "             ' cursor(SELECT X FROM black_scholes),'\n",
    "             ' cursor(SELECT T FROM black_scholes),'\n",
    "             ' cursor(SELECT r FROM black_scholes),'\n",
    "             ' cursor(SELECT sigma FROM black_scholes),'\n",
    "             ' 1));')\n",
    "\n",
    "for expected, (output, ) in list(zip(df['OPRICE'], result))[:5]:\n",
    "    print(f'Expected = {expected:.2f}, UDTF Model output = {output:.2f}')"
   ]
  },
  {
   "cell_type": "markdown",
   "metadata": {},
   "source": [
    "## Thanks for watching\n",
    "\n",
    "You can find me at:\n",
    "\n",
    "- email: gleobas@quansight.com\n",
    "- GitHub: guilhermeleobas"
   ]
  },
  {
   "cell_type": "markdown",
   "metadata": {},
   "source": [
    "The Remote Backend Compiler project is Open Source and it is available on github\n",
    "\n",
    "- https://github.com/xnd-project/rbc/"
   ]
  }
 ],
 "metadata": {
  "kernelspec": {
   "display_name": "Python 3",
   "language": "python",
   "name": "python3"
  },
  "language_info": {
   "codemirror_mode": {
    "name": "ipython",
    "version": 3
   },
   "file_extension": ".py",
   "mimetype": "text/x-python",
   "name": "python",
   "nbconvert_exporter": "python",
   "pygments_lexer": "ipython3",
   "version": "3.7.8"
  }
 },
 "nbformat": 4,
 "nbformat_minor": 4
}
